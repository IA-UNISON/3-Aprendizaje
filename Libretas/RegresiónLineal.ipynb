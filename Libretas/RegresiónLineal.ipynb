{
 "cells": [
  {
   "cell_type": "markdown",
   "id": "9762f242-4993-42e9-b9d8-de466464fb6f",
   "metadata": {},
   "source": [
    "# Regresión Lineal"
   ]
  },
  {
   "cell_type": "markdown",
   "id": "6f806e2e-64aa-4acf-ad76-d02816711586",
   "metadata": {},
   "source": [
    "#### Inteligencia Artificial 2025"
   ]
  },
  {
   "cell_type": "markdown",
   "id": "b7e50e94-1ad8-4f18-b35a-5f6b654aa3d3",
   "metadata": {},
   "source": [
    "#### Mirka Galilea Dennis Vargas"
   ]
  },
  {
   "cell_type": "code",
   "execution_count": 7,
   "id": "d48bda44-185b-4436-a796-74b0d652b337",
   "metadata": {},
   "outputs": [],
   "source": [
    "%matplotlib inline\n",
    "import numpy as np\n",
    "import matplotlib.pyplot as plt\n",
    "\n",
    "plt.rcParams['figure.figsize'] = (16,8)\n",
    "plt.style.use('ggplot')"
   ]
  },
  {
   "cell_type": "markdown",
   "id": "fc50e0e6-ec33-427f-b151-4912bed804df",
   "metadata": {},
   "source": [
    "#### Desarrolla la función de costo tal como se pide abajo"
   ]
  },
  {
   "cell_type": "code",
   "execution_count": 30,
   "id": "cd902e3e-4cfb-4107-abbf-9e2387cb3421",
   "metadata": {},
   "outputs": [],
   "source": [
    "import numpy as np\n",
    "\n",
    "def mse(x, y, w, b):\n",
    "    \"\"\"\n",
    "    Calcula el costo de acuerdo al criterio de MSE (mean square error) asumiendo un conjunto de datos\n",
    "    x, con una salida y, y una hipótesis lineal parametrizada por omega.\n",
    "    \n",
    "    Parámetros\n",
    "    ----------\n",
    "    x: Un ndarray de dimension (M, n)\n",
    "    y: Un ndarray de dimensión (M, )\n",
    "    w: Un ndarray de dimensión (n, )\n",
    "    b: Un flotante\n",
    "    \n",
    "    Devuelve\n",
    "    --------\n",
    "    Un flotante con el costo (MSE)\n",
    "    \"\"\"\n",
    "    M, n = x.shape\n",
    "    loss = 0\n",
    "\n",
    "    # Implementación con ciclos\n",
    "    J = 0\n",
    "    for i in range(M):\n",
    "        y_pred = np.dot(x[i], w) + b  # Predicción\n",
    "        J += (y_pred - y[i]) ** 2  # Error cuadrático\n",
    "        \n",
    "    loss = J / M  # Promedio de los errores cuadráticos\n",
    "    \n",
    "    # Implementación con NumPy (más eficiente)\n",
    "    # loss = np.mean((np.dot(x, w) + b - y) ** 2)\n",
    "    \n",
    "    return loss\n"
   ]
  },
  {
   "cell_type": "markdown",
   "id": "765185f3-570a-4c4b-8bd7-146822e25889",
   "metadata": {},
   "source": [
    "#### Desarrolla la función con descenso de gradiente"
   ]
  },
  {
   "cell_type": "code",
   "execution_count": 32,
   "id": "250bec2f-0351-4693-8b60-9816d2cd9af9",
   "metadata": {},
   "outputs": [],
   "source": [
    "import numpy as np\n",
    "\n",
    "def grad_costo(x, y, w, b):\n",
    "    \"\"\"\n",
    "    Calcula el gradiente respecto a w y b de los datos existentes\n",
    "    \n",
    "    Parámetros\n",
    "    ----------\n",
    "    x: ndarray de dimensión [M, n] con la matriz de diseño\n",
    "    y: ndarray de dimensión [M,] con los valores de salida\n",
    "    w: ndarray de dimensión [n, ] con los pesos \n",
    "    b: flotante con el sesgo \n",
    "    \n",
    "    Devuelve\n",
    "    --------\n",
    "    dw, db: donde dw es un vector de dimensión de w con el gradiente\n",
    "            de la función de costo respecto a w, y db es la derivada de la\n",
    "            función de costo respecto a b\n",
    "    \"\"\"\n",
    "    M, n = x.shape  # Número de muestras y características\n",
    "    \n",
    "    error = (x @ w + b) - y  # Error entre predicción y valores reales\n",
    "    \n",
    "    dw = (2 / M) * (x.T @ error)  # Gradiente respecto a w\n",
    "    db = (2 / M) * np.sum(error)  # Gradiente respecto a b\n",
    "\n",
    "    return dw, db\n"
   ]
  },
  {
   "cell_type": "code",
   "execution_count": 36,
   "id": "31961c57-9e41-4bef-9d6d-da89d5fd1d88",
   "metadata": {},
   "outputs": [],
   "source": [
    "import numpy as np\n",
    "\n",
    "def descenso_gradiente_lotes(x, y, w_0, b_0, eta, max_epoch):\n",
    "    \"\"\"\n",
    "    Descenso de gradiente durante max_epoch iteraciones para regresión lineal.\n",
    "    \n",
    "    Parámetros\n",
    "    -----------\n",
    "    x: ndarray de dimensión [M, n] con los datos de entrada\n",
    "    y: ndarray de dimensión [M,] con los datos de salida\n",
    "    w_0: ndarray de dimensión [n, ] con los pesos iniciales\n",
    "    b_0: flotante con el sesgo inicial\n",
    "    eta: flotante con tamaño de paso o tasa de aprendizaje.\n",
    "    max_epoch: número de iteraciones (entero)\n",
    "    \n",
    "    Devuelve\n",
    "    --------\n",
    "    w, b, mse_iter: donde w y b tienen las dimensiones de w_0 y b_0 con los parámetros \n",
    "                    aprendidos, mientras que mse_iter es un ndarray de dimensión \n",
    "                    [max_epoch, 1] con el costo en cada iteración.\n",
    "    \"\"\"\n",
    "    w, b = w_0.copy(), b_0  # Inicializamos w y b con los valores dados\n",
    "    mse_iter = np.zeros(max_epoch)  # Para almacenar la evolución del costo\n",
    "\n",
    "    for iter in range(max_epoch):\n",
    "        dw, db = grad_costo(x, y, w, b)  # Calculamos gradientes\n",
    "\n",
    "        # Actualizamos los parámetros con la regla de descenso de gradiente\n",
    "        w -= eta * dw\n",
    "        b -= eta * db    \n",
    "\n",
    "        # Guardamos el costo en la iteración actual\n",
    "        mse_iter[iter] = mse(x, y, w, b)\n",
    "\n",
    "    return w, b, mse_iter\n"
   ]
  },
  {
   "cell_type": "code",
   "execution_count": 62,
   "id": "42e481f8-b0d3-4724-be38-40f8b69c192d",
   "metadata": {},
   "outputs": [
    {
     "data": {
      "image/png": "[encoded data removed]",
      "text/plain": [
       "<Figure size 1600x800 with 1 Axes>"
      ]
     },
     "metadata": {},
     "output_type": "display_data"
    }
   ],
   "source": [
    "import numpy as np\n",
    "import matplotlib.pyplot as plt\n",
    "from sklearn.preprocessing import StandardScaler\n",
    "\n",
    "# Generar datos de prueba simulando precios de casas (Ejemplo)\n",
    "np.random.seed(42)\n",
    "M = 100  # Número de muestras\n",
    "n = 1  # Número de características\n",
    "\n",
    "x = 2 + 22 * np.random.rand(M, n)  # Valores de x en el rango [2, 24]\n",
    "y = 1 + 1.01 * x[:, 0] + np.random.randn(M) * 0.5  # Relación lineal con ruido\n",
    "\n",
    "# Normalizar los datos para mejorar la convergencia del descenso de gradiente\n",
    "scaler = StandardScaler()\n",
    "x_scaled = scaler.fit_transform(x)\n",
    "\n",
    "# Inicializar parámetros\n",
    "w_0 = np.zeros((n,))\n",
    "b_0 = 0.0\n",
    "alpha = 0.01  # Tasa de aprendizaje\n",
    "iteraciones = 1500  # Número de iteraciones\n",
    "\n",
    "# Función de costo (Mean Squared Error)\n",
    "def mse(x, y, w, b):\n",
    "    M = x.shape[0]\n",
    "    y_pred = x @ w + b\n",
    "    return np.sum((y_pred - y) ** 2) / (2 * M)\n",
    "\n",
    "# Gradiente de la función de costo\n",
    "def grad_costo(x, y, w, b):\n",
    "    M = x.shape[0]\n",
    "    error = (x @ w + b) - y\n",
    "    dw = (x.T @ error) / M\n",
    "    db = np.sum(error) / M\n",
    "    return dw, db\n",
    "\n",
    "# Descenso de gradiente\n",
    "def descenso_gradiente_lotes(x, y, w_0, b_0, eta, max_epoch):\n",
    "    w, b = w_0.copy(), b_0\n",
    "    mse_iter = np.zeros(max_epoch)\n",
    "\n",
    "    for i in range(max_epoch):\n",
    "        dw, db = grad_costo(x, y, w, b)\n",
    "        w -= eta * dw\n",
    "        b -= eta * db\n",
    "        mse_iter[i] = mse(x, y, w, b)\n",
    "\n",
    "    return w, b, mse_iter\n",
    "\n",
    "# Entrenar el modelo\n",
    "w, b, mse_historial = descenso_gradiente_lotes(x_scaled, y, w_0, b_0, alpha, iteraciones)\n",
    "\n",
    "# Graficar el costo por iteración\n",
    "plt.plot(mse_historial, 'b')\n",
    "plt.title(u'MSE por iteración')\n",
    "plt.xlabel(u'Iteración')\n",
    "plt.ylabel(r'$Loss(\\omega, b)$')\n",
    "plt.show()\n",
    "\n",
    "\n",
    "\n"
   ]
  },
  {
   "cell_type": "markdown",
   "id": "0d22003b-e9db-4716-856a-4984505ffcba",
   "metadata": {},
   "source": [
    "#### Completa los paso para realizar la estimación"
   ]
  },
  {
   "cell_type": "code",
   "execution_count": 64,
   "id": "6c1f5769-58bf-492c-a2c1-8165e4cf043e",
   "metadata": {},
   "outputs": [
    {
     "name": "stdout",
     "output_type": "stream",
     "text": [
      "Los valores estimados son: [ 46.91571998 177.34715965]\n"
     ]
    }
   ],
   "source": [
    "import numpy as np\n",
    "\n",
    "x_estimar = np.array([[4], [24]])\n",
    "\n",
    "# Normalizar x_estimar antes de la predicción\n",
    "x_estimar_scaled = scaler.transform(x_estimar)\n",
    "\n",
    "# Predicción\n",
    "y_estimado = x_estimar_scaled @ w + b\n",
    "\n",
    "# Desnormalizar la predicción para revertir la escala\n",
    "y_estimado_desnormalizado = y_estimado * np.std(y) + np.mean(y)\n",
    "\n",
    "print(\"Los valores estimados son: {}\".format(y_estimado_desnormalizado))"
   ]
  }
 ],
 "metadata": {
  "kernelspec": {
   "display_name": "Python [conda env:base] *",
   "language": "python",
   "name": "conda-base-py"
  },
  "language_info": {
   "codemirror_mode": {
    "name": "ipython",
    "version": 3
   },
   "file_extension": ".py",
   "mimetype": "text/x-python",
   "name": "python",
   "nbconvert_exporter": "python",
   "pygments_lexer": "ipython3",
   "version": "3.12.7"
  }
 },
 "nbformat": 4,
 "nbformat_minor": 5
}
