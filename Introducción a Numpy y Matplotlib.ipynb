{
 "cells": [
  {
   "attachments": {},
   "cell_type": "markdown",
   "metadata": {},
   "source": [
    "# Introducción a Numpy y Matplotlib\n",
    "\n",
    "**Curso Inteligencia Artificial 2025-1**"
   ]
  },
  {
   "cell_type": "markdown",
   "metadata": {},
   "source": [
    "## Inicialización de una libreta"
   ]
  },
  {
   "cell_type": "markdown",
   "metadata": {},
   "source": [
    "Vamos a introducir Numpy y Matplotlib, librerías para matemáticas y graficación, desde una libreta tipo *Jupyter*. Esta la puedes descargar y ejecutar en tu propia computadora, usando un editor de texto como VSCode, o inicializando Jupyter en linea de comando. Una opción muy popular es ejecutar la libreta en [Colaboratory](https://colab.google) de Google (que te permite ejecutar libretas en linea si cuantas con una cuenta de *Google*). Para ejecutar esta libreta en particular, lo puedes hacer [desde este enlace](https://colab.research.google.com/github/IA-UNISON/3-Aprendizaje/blob/main/Introducción%20a%20Numpy%20y%20Matplotlib.ipynb).\n",
    "\n",
    "Para inicializar la libreta y poderla utilizar con `numpy` y `matplotlib`, y asegurarse que los gráficos se presenten donde deben de estar es necesario ejecutar las siguientes instrucciones:"
   ]
  },
  {
   "cell_type": "code",
   "execution_count": 1,
   "metadata": {
    "collapsed": false
   },
   "outputs": [],
   "source": [
    "import numpy as np\n",
    "import matplotlib.pyplot as plt\n",
    "\n",
    "# Para insertar las gráficas dentro del entorno\n",
    "%matplotlib inline\n"
   ]
  },
  {
   "cell_type": "markdown",
   "metadata": {},
   "source": [
    "Recuerda que hay que ejecutar cada celda (cell) con *ctrl-enter* o con el simbolo de la flechita arriba de la libreta.\n",
    "\n",
    "La linea que empieza con `%` es un tipo de comando conocidos como *comandos mágicos*. En este comando le especificamos a la libreta que vamos a utilizar matplotlib para hacer gráficas y que queremos que las anexe dentro del documento. Existen muchos comandos mágicos, algunos muy útiles que vamos a ir viendo sobre la marcha. Para una explicacion completa está [esta libreta](http://nbviewer.ipython.org/github/ipython/ipython/blob/1.x/examples/notebooks/Cell%20Magics.ipynb).\n"
   ]
  },
  {
   "cell_type": "markdown",
   "metadata": {},
   "source": [
    "En Jupyter existen varias funciones que se llaman *mágicas* las cuales empiezan siempre con %. La más común es `%matplotlib inline` para realizar gráficas dentro de la libreta y no que las genere en forma independiente. Otras muy usadas son %time Para calcular el tiempo que tarda en ejecitarse una celda, y %prun para hacer profile de la celda. \n",
    "\n",
    "Por ejemplo"
   ]
  },
  {
   "cell_type": "code",
   "execution_count": null,
   "metadata": {
    "collapsed": false
   },
   "outputs": [],
   "source": [
    "%time sum([x for x in range(100000)])"
   ]
  },
  {
   "cell_type": "code",
   "execution_count": null,
   "metadata": {
    "collapsed": false
   },
   "outputs": [],
   "source": [
    "%prun sum([x for x in range(100000)])"
   ]
  },
  {
   "cell_type": "markdown",
   "metadata": {},
   "source": [
    "En general los comandos mágicos se pueden consultar con otro comando mágico"
   ]
  },
  {
   "cell_type": "code",
   "execution_count": null,
   "metadata": {
    "collapsed": true
   },
   "outputs": [],
   "source": [
    "%quickref"
   ]
  },
  {
   "cell_type": "markdown",
   "metadata": {},
   "source": [
    "## Inicializando variables en Numpy"
   ]
  },
  {
   "cell_type": "markdown",
   "metadata": {},
   "source": [
    "Numpy agrega a python básicamente dos nuevos tipos o clases, de los cuales solo nos vamos a interesar por los arreglos multidimensionales o `ndarray`. La manera más sencilla de crear un array (vector o matriz) es utilizando `array` como:"
   ]
  },
  {
   "cell_type": "code",
   "execution_count": null,
   "metadata": {
    "collapsed": false
   },
   "outputs": [],
   "source": [
    "# Crea un objeto vector\n",
    "vector_a = np.array([1, 3.1416, 40, 0, 2, 5])\n",
    "print(f\"vector a = {vector_a}\") \n",
    "\n",
    "# Crea una matriz\n",
    "matriz_A = np.array([[1, 2], [3, 4], [5, 6]])\n",
    "print(f\"matriz A = {matriz_A}\") "
   ]
  },
  {
   "cell_type": "markdown",
   "metadata": {},
   "source": [
    "Esta es la manera más directa pero no la única (y en muchos casos la mas usada) para crear nuevos vectores multidimensionales. Existen otras maneras de generar arreglos como son las funciones:\n",
    "\n",
    "* `arange(ini=0, fin, inc=1)`: Devuelve un ndarray iniciando en `ini` y terminando en `fin`, con incrementos de inc\n",
    "\n",
    "* `zeros(dim)`: Devuelve un ndarray de dimensión `dim` (si es un escalar se considera un vector, si es una tupla de números entonces son las dimensiones del ndarray), con todas sus entradas en cero. \n",
    "      \n",
    "* `ones(dim)`: Similar a `zeros()` pero con unos.\n",
    "    \n",
    "* `eye(x, y=none)`: si solo se tiene el argumento `x` devuelve una matriz identidad de $x \\times x$. Si se encuentra `y`, entonces una matriz diagonal rectangular de dimensión x por y.\n",
    "      \n",
    "* `zeros_like( x )`: Un ndarray de ceros de la misma dimensión que `x` (igual existe `ones_like`).\n",
    "    \n",
    "* `linspace(inicial, final, elementos)`: Devuelve un ndarray de una dimensión iniciando en inicial, hasta final de \n",
    "manera que existan elementos numeros igualmente espaciados. Muy útil para graficación principalmente.\n",
    "      \n",
    "* `random.rand(dim1, dim2, ...)`: Devuelve un ndarray de dimensiones `dim1` por `dim2` por ... con números aleatorios\n",
    "generados por una distribución uniforme entre 0 y 1. \n",
    "      \n",
    "Veamos unos cuantos ejemplos:"
   ]
  },
  {
   "cell_type": "code",
   "execution_count": null,
   "metadata": {
    "collapsed": false
   },
   "outputs": [],
   "source": [
    "vZ = np.zeros(5)\n",
    "print(f\"Un vector de ceros con 5 valores \\n {vZ}\")"
   ]
  },
  {
   "cell_type": "code",
   "execution_count": null,
   "metadata": {
    "collapsed": false
   },
   "outputs": [],
   "source": [
    "mO = np.ones((3, 10))\n",
    "print(f\"Una matriz de 3 x 10 de puron unos, \\n {mO}\")"
   ]
  },
  {
   "cell_type": "code",
   "execution_count": null,
   "metadata": {
    "collapsed": false
   },
   "outputs": [],
   "source": [
    "va = np.arange(10)\n",
    "print(f\"va = \\n {va}\")"
   ]
  },
  {
   "cell_type": "code",
   "execution_count": null,
   "metadata": {
    "collapsed": false
   },
   "outputs": [],
   "source": [
    "vb = np.arange(20, -10, -5)\n",
    "print(f\"vb = \\n {vb}\")"
   ]
  },
  {
   "cell_type": "code",
   "execution_count": null,
   "metadata": {
    "collapsed": false
   },
   "outputs": [],
   "source": [
    "print(\"Y una matriz de ceros de las dimensiones de mO:\")\n",
    "print(np.zeros_like(mO))"
   ]
  },
  {
   "cell_type": "code",
   "execution_count": null,
   "metadata": {
    "collapsed": false
   },
   "outputs": [],
   "source": [
    "mA = np.random.rand(5, 12)\n",
    "print(\"Y una matriz con números aleatorios bajo una distribución uniforme entre 0 y 1\")\n",
    "print(mA)"
   ]
  },
  {
   "cell_type": "markdown",
   "metadata": {},
   "source": [
    "### Primer problema a resolver : "
   ]
  },
  {
   "cell_type": "markdown",
   "metadata": {},
   "source": [
    "En la siguiente celda (o puedes crear las que consideres convenientes) crea las siguientes matrices:\n",
    "\n",
    "* Una matriz de 4 por 6 con valores aleatorios de acuerdo a una distribución normal con media cero y varianza unitaria.\n",
    "    \n",
    "* Un vector de 10 elementos con valores aleatorios de números enteros entre 4 y 100\n",
    "    \n",
    "* Una matriz diagonal de 5 por 5 cuyos elementos de la diagonal sean (1, 2, 3, 4, 5)"
   ]
  },
  {
   "cell_type": "code",
   "execution_count": 6,
   "metadata": {
    "collapsed": false
   },
   "outputs": [
    {
     "name": "stdout",
     "output_type": "stream",
     "text": [
      "Matriz normal 4x6:\n",
      " [[-0.25473544 -1.24627459 -0.53202943 -0.14886263 -0.07157805  1.07548626]\n",
      " [-0.61122326  1.00980094  1.35416043 -0.42725787  0.55929304 -0.3637816 ]\n",
      " [-1.66337892  0.54305385  1.61499261  0.21224687 -1.07312171  0.59064814]\n",
      " [-0.20000472 -0.60090664  1.81225368  0.65255259  0.36766194  1.56076259]]\n",
      "\n",
      "Vector de enterios aleatorios \n",
      " [  8  44 100  51  60  43  71  28  99  18]\n",
      "\n",
      "Matriz diagonal 5x5: \n",
      " [[1 0 0 0 0]\n",
      " [0 2 0 0 0]\n",
      " [0 0 3 0 0]\n",
      " [0 0 0 4 0]\n",
      " [0 0 0 0 5]]\n"
     ]
    }
   ],
   "source": [
    "# Introduce aqui tus respuestas\n",
    "import numpy as np\n",
    "\n",
    "matriz_normal = np.random.normal(loc=0, scale=1, size= (4,6))\n",
    "\n",
    "vector_enteros = np.random.randint(4,101,size=10)\n",
    "\n",
    "matriz_diagonal = np.diag([1,2,3,4,5])\n",
    "\n",
    "print(\"Matriz normal 4x6:\\n\", matriz_normal)\n",
    "print(\"\\nVector de enterios aleatorios \\n\", vector_enteros)\n",
    "print(\"\\nMatriz diagonal 5x5: \\n\", matriz_diagonal)\n",
    "#Recuerda probar con el autocompletado de las celdas, así como la documentación en linea"
   ]
  },
  {
   "cell_type": "markdown",
   "metadata": {},
   "source": [
    "## Operaciones básicas de los ndarray"
   ]
  },
  {
   "cell_type": "markdown",
   "metadata": {},
   "source": [
    "La mayoría de las operaciones que se pueden aplicar en los ndarray se encuenran en el espacio de nombres de np, y las cuales son bastante directas tal como:\n",
    "\n",
    "    b = np.sin(a)\n",
    "\n",
    "la cual devuelve en b un ndarray de las mismas dimensiones que a, cuyas entradas son el seno de las entradas de a (en radianes).\n",
    "Así, parece inecesario explicar las funciones cos, tan, tanh, acos, asin, etc..\n",
    "\n",
    "Otras funciones muy útiles no son tan directas. Veamos algunas:\n",
    "\n",
    "    c = a + b\n",
    "\n",
    "es la suma de dos ndarray, bastante obvio, lo que no lo es tanto es:\n",
    "\n",
    "    c = a * b\n",
    "\n",
    "la cual es un ndarray resultante de la *multiplicación punto a punto* de los elementos de a y b, asumiendo que ambos tienen\n",
    "las mismas diensiones. ¿Y para aplicar un producto matricial? Pues se utiliza el comando dot (o producto punto) el cual puede ser\n",
    "expresado de tres formas:\n",
    "\n",
    "    c = np.dot(a, b)\n",
    "    c = a.dot(b)\n",
    "    c = a @ b\n",
    "\n",
    "La suma de los elementos de un ndarray tambien es un método del objeto (como min, max, argmin, argmax, etc...) que tambien se pueden llamar de dos maneras diferentes (al menos):\n",
    "\n",
    "    b = a.sum()\n",
    "    b = np.sum(a)\n",
    "\n",
    "es la suma de *todos los elementos del array* mientras que\n",
    "\n",
    "    b = a.sum(axis=0) \n",
    "    b = np.sum(a, axis=0)\n",
    "\n",
    "es un ndarray con una dimensión menos que a, con la suma de las columnas. Veamos unos ejemplos:"
   ]
  },
  {
   "cell_type": "code",
   "execution_count": null,
   "metadata": {
    "collapsed": false
   },
   "outputs": [],
   "source": [
    "# Vamos a generar varios ndarrays\n",
    "a = np.array([[1, 2, 3], [4, 5, 6]])\n",
    "b = np.random.rand(2, 3)\n",
    "\n",
    "print(f\"a = {a}\")\n",
    "print(f\"b = {b}\")\n",
    "print(f\"Suma de todos los números de b = {b.sum()}\")\n",
    "print(f\"Media de cada columna de a = {a.mean(axis=0)}\")\n",
    "print(f\"Transpuesta de a, forma larga \\n a.transpose()\")\n",
    "print(f\"Transpuesta de a, forma preferida \\n a.T\")\n",
    "\n",
    "print(f\"10 * b = {10 * b}\")\n",
    "print(f\"a * b = {a * b}\")\n",
    "\n",
    "print(f\"2 elevado a la matriz a = {np.power(2, a)}\")\n",
    "print(f\"a elevada al cuadrado (elemento a elemento)\")\n",
    "print(np.power(a, 2))\n",
    "\n",
    "print(f\"a.dot(b.T) = {a.dot(b.T)}\")\n",
    "print(f\"a.dot(b) debería dar error {a.dot(b)}\")"
   ]
  },
  {
   "cell_type": "markdown",
   "metadata": {},
   "source": [
    "Como vemos tenemos aqui una bateria completa de funciones, las cuales se aplican en un ndarray. ¿Pero que información tengo de un ndarray? ¿Como puedo componer un ndarray a partir de otros?  Asumamos por ejemplo un ndarray de una dimensión:"
   ]
  },
  {
   "cell_type": "code",
   "execution_count": null,
   "metadata": {
    "collapsed": false
   },
   "outputs": [],
   "source": [
    "#Generamos el ndarray\n",
    "a = np.arange(100)\n",
    "\n",
    "# Checamos algunas propiedades\n",
    "print(f\"El número de dimensiones de a es: {a.ndim}\")\n",
    "print(f\"Y su forma es {a.shape}\")\n",
    "print(f\"Y tiene {a.size} elementos\")\n",
    "\n",
    "#Generamos algunos ndarrays a partir de a\n",
    "b, c = a[:20], a[20:]\n",
    "d, e = a[-1:-10:-1], a[10:11]\n",
    "f = a[::-1]\n",
    "g = a[a % 5 == 0]\n",
    "h = f[[1, 15, 60]]\n",
    "\n",
    "# Ahora trata de inferir que es lo que debe contener cada array b, c, d, e, f, g, h sin hacer ninguna prueba.\n",
    "\n",
    "# Agrega ahora los print que consideres necesarios para verificar que valores tiene b, c, d, e, f, g, h "
   ]
  },
  {
   "cell_type": "markdown",
   "metadata": {},
   "source": [
    "A partir de una matriz (un ndarray de dos dimensiones) se pueden ejemplificar otras cosas, por ejemplo:"
   ]
  },
  {
   "cell_type": "code",
   "execution_count": null,
   "metadata": {
    "collapsed": false
   },
   "outputs": [],
   "source": [
    "#Generamos un arreglo con 100 valores equiespaciados del seno desde 0 a 2$\\pi$\n",
    "a = np.sin(np.linspace(0, 2 * np.pi, 100))\n",
    "\n",
    "#Lo convertimos en una matriz de 10 por *lo que sea*, donde *lo que sea* es 10 en este caso, \n",
    "b = a.reshape((10, -1))\n",
    "print(\"b queda como: \",b)\n",
    "print(f\"donde b tiene {b.ndim} dimensiones, con una forma {b.shape} y con {b.size} elementos.\")"
   ]
  },
  {
   "cell_type": "code",
   "execution_count": null,
   "metadata": {
    "collapsed": false
   },
   "outputs": [],
   "source": [
    "#Si queremos convertir un ndarray a un array de una sola dimension (desenrrollar la matriz podría ser el término)\n",
    "c = b.ravel()\n",
    "\n",
    "print(\"La diferencia de a y c sería\")\n",
    "print((a - c).sum())"
   ]
  },
  {
   "cell_type": "code",
   "execution_count": null,
   "metadata": {
    "collapsed": false
   },
   "outputs": [],
   "source": [
    "# Si queremos hacer que un vector se comporte como un vector renglon\n",
    "a = np.arange(30).reshape(1,-1)\n",
    "print(f\"a es de forma {a.shape}\")\n",
    "\n",
    "# Y si queremos que sea un vector columna hacemos esto\n",
    "b = np.linspace(30, 35, 30).reshape(-1,1)\n",
    "print(f\"b es de forma {b.shape}\")\n",
    "\n",
    "# Y para hacer una concatenacion de columnas entonces utilizamps la forma especial np.c[]\n",
    "c = np.c_[a.T, b]\n",
    "print(f\"c es de forma {c.shape}\")\n",
    "\n",
    "#Y una concatenación de renglones es por lo tanto\n",
    "d = np.r_[a, b.T]\n",
    "print(f\"d es de forma {d.shape}\")"
   ]
  },
  {
   "cell_type": "markdown",
   "metadata": {},
   "source": [
    "### Segundo problema a resolver"
   ]
  },
  {
   "cell_type": "markdown",
   "metadata": {},
   "source": [
    "Realiza lo siguiente:\n",
    "\n",
    "* Genera una matriz de 100 por 5 de forma que en cada columna tengamos lo siguiente:\n",
    "    \n",
    "    - En la primer columna los valores entre -1 y 1, equiespaciados\n",
    "    - En la segunda columna el valor de seno para los valores de la primer columna\n",
    "    - En la tercer columna el valor de la función logística de los valores de la primer columna, la cual es $g(x) = \\frac{1}{1 + \\exp(-x)}$\n",
    "    - En la cuarta columna 1 si el valor de la segunda columna es mayor que cero y -1 en otro caso (revisa la función np.where)\n",
    "    - En la quinta columna valores aleatorios de acuerdo a una distribución gaussiana con media 1 y varianza 0.5\n",
    "        \n",
    "* Encuentra un arreglo con todos los valores de la función logística, cuando el valor absoluto del seno de x es menor a 0.5\n",
    "    \n",
    "* Convierte este arraglo en una matriz con 5 columnas y los renglones que sean necesarios.\n",
    "        "
   ]
  },
  {
   "cell_type": "code",
   "execution_count": 10,
   "metadata": {
    "collapsed": true
   },
   "outputs": [
    {
     "name": "stdout",
     "output_type": "stream",
     "text": [
      "\n",
      "Matriz 100x5: \n",
      " [[-1.00000000e+00 -8.41470985e-01  2.68941421e-01 -1.00000000e+00\n",
      "  -1.08243720e-01]\n",
      " [-9.79797980e-01 -8.30384824e-01  2.72931871e-01 -1.00000000e+00\n",
      "   2.81057778e-01]\n",
      " [-9.59595960e-01 -8.18959776e-01  2.76959098e-01 -1.00000000e+00\n",
      "   2.15847807e+00]\n",
      " [-9.39393939e-01 -8.07200505e-01  2.81022780e-01 -1.00000000e+00\n",
      "   2.01901975e-02]\n",
      " [-9.19191919e-01 -7.95111809e-01  2.85122575e-01 -1.00000000e+00\n",
      "   1.62206515e+00]\n",
      " [-8.98989899e-01 -7.82698621e-01  2.89258118e-01 -1.00000000e+00\n",
      "   8.11662192e-01]\n",
      " [-8.78787879e-01 -7.69966008e-01  2.93429023e-01 -1.00000000e+00\n",
      "   1.33486386e+00]\n",
      " [-8.58585859e-01 -7.56919167e-01  2.97634885e-01 -1.00000000e+00\n",
      "   8.71607184e-01]\n",
      " [-8.38383838e-01 -7.43563420e-01  3.01875275e-01 -1.00000000e+00\n",
      "   6.25852507e-01]\n",
      " [-8.18181818e-01 -7.29904220e-01  3.06149746e-01 -1.00000000e+00\n",
      "   1.53285782e-01]\n",
      " [-7.97979798e-01 -7.15947140e-01  3.10457825e-01 -1.00000000e+00\n",
      "   8.72855211e-01]\n",
      " [-7.77777778e-01 -7.01697876e-01  3.14799023e-01 -1.00000000e+00\n",
      "   1.16478024e+00]\n",
      " [-7.57575758e-01 -6.87162244e-01  3.19172827e-01 -1.00000000e+00\n",
      "  -1.77705845e-01]\n",
      " [-7.37373737e-01 -6.72346176e-01  3.23578702e-01 -1.00000000e+00\n",
      "   8.00498900e-01]\n",
      " [-7.17171717e-01 -6.57255718e-01  3.28016094e-01 -1.00000000e+00\n",
      "   1.14989597e+00]\n",
      " [-6.96969697e-01 -6.41897029e-01  3.32484427e-01 -1.00000000e+00\n",
      "   4.21776930e-01]\n",
      " [-6.76767677e-01 -6.26276377e-01  3.36983105e-01 -1.00000000e+00\n",
      "   1.01489123e+00]\n",
      " [-6.56565657e-01 -6.10400137e-01  3.41511511e-01 -1.00000000e+00\n",
      "   1.88259337e+00]\n",
      " [-6.36363636e-01 -5.94274788e-01  3.46069006e-01 -1.00000000e+00\n",
      "   1.09885567e+00]\n",
      " [-6.16161616e-01 -5.77906910e-01  3.50654934e-01 -1.00000000e+00\n",
      "   2.23183777e+00]\n",
      " [-5.95959596e-01 -5.61303184e-01  3.55268618e-01 -1.00000000e+00\n",
      "   1.20625617e+00]\n",
      " [-5.75757576e-01 -5.44470386e-01  3.59909359e-01 -1.00000000e+00\n",
      "   5.80106974e-01]\n",
      " [-5.55555556e-01 -5.27415386e-01  3.64576441e-01 -1.00000000e+00\n",
      "   2.84807973e-01]\n",
      " [-5.35353535e-01 -5.10145143e-01  3.69269129e-01 -1.00000000e+00\n",
      "   7.71610066e-01]\n",
      " [-5.15151515e-01 -4.92666706e-01  3.73986669e-01 -1.00000000e+00\n",
      "   1.47356156e+00]\n",
      " [-4.94949495e-01 -4.74987208e-01  3.78728288e-01 -1.00000000e+00\n",
      "  -2.10491479e-03]\n",
      " [-4.74747475e-01 -4.57113864e-01  3.83493197e-01 -1.00000000e+00\n",
      "   9.07374343e-01]\n",
      " [-4.54545455e-01 -4.39053968e-01  3.88280589e-01 -1.00000000e+00\n",
      "   2.13328032e+00]\n",
      " [-4.34343434e-01 -4.20814891e-01  3.93089638e-01 -1.00000000e+00\n",
      "   9.98875248e-01]\n",
      " [-4.14141414e-01 -4.02404076e-01  3.97919505e-01 -1.00000000e+00\n",
      "   1.01001354e+00]\n",
      " [-3.93939394e-01 -3.83829037e-01  4.02769333e-01 -1.00000000e+00\n",
      "   3.23975704e-01]\n",
      " [-3.73737374e-01 -3.65097354e-01  4.07638250e-01 -1.00000000e+00\n",
      "   1.43952243e+00]\n",
      " [-3.53535354e-01 -3.46216672e-01  4.12525370e-01 -1.00000000e+00\n",
      "   7.96493758e-01]\n",
      " [-3.33333333e-01 -3.27194697e-01  4.17429794e-01 -1.00000000e+00\n",
      "  -8.28839087e-01]\n",
      " [-3.13131313e-01 -3.08039191e-01  4.22350605e-01 -1.00000000e+00\n",
      "   4.48670899e-01]\n",
      " [-2.92929293e-01 -2.88757971e-01  4.27286879e-01 -1.00000000e+00\n",
      "   5.67449642e-01]\n",
      " [-2.72727273e-01 -2.69358908e-01  4.32237676e-01 -1.00000000e+00\n",
      "   1.60564076e+00]\n",
      " [-2.52525253e-01 -2.49849916e-01  4.37202046e-01 -1.00000000e+00\n",
      "   1.22987547e+00]\n",
      " [-2.32323232e-01 -2.30238959e-01  4.42179028e-01 -1.00000000e+00\n",
      "   1.83896648e+00]\n",
      " [-2.12121212e-01 -2.10534040e-01  4.47167650e-01 -1.00000000e+00\n",
      "   5.11164886e-01]\n",
      " [-1.91919192e-01 -1.90743201e-01  4.52166931e-01 -1.00000000e+00\n",
      "   2.00301260e+00]\n",
      " [-1.71717172e-01 -1.70874517e-01  4.57175884e-01 -1.00000000e+00\n",
      "   4.36351237e-01]\n",
      " [-1.51515152e-01 -1.50936098e-01  4.62193511e-01 -1.00000000e+00\n",
      "  -2.97029626e-02]\n",
      " [-1.31313131e-01 -1.30936081e-01  4.67218808e-01 -1.00000000e+00\n",
      "   1.87080862e+00]\n",
      " [-1.11111111e-01 -1.10882629e-01  4.72250765e-01 -1.00000000e+00\n",
      "   1.67846990e-01]\n",
      " [-9.09090909e-02 -9.07839235e-02  4.77288367e-01 -1.00000000e+00\n",
      "  -2.35789544e-01]\n",
      " [-7.07070707e-02 -7.06481689e-02  4.82330593e-01 -1.00000000e+00\n",
      "   2.19411118e+00]\n",
      " [-5.05050505e-02 -5.04835822e-02  4.87376421e-01 -1.00000000e+00\n",
      "   5.34133948e-01]\n",
      " [-3.03030303e-02 -3.02983928e-02  4.92424822e-01 -1.00000000e+00\n",
      "   1.23345415e+00]\n",
      " [-1.01010101e-02 -1.01008383e-02  4.97474769e-01 -1.00000000e+00\n",
      "   1.51218071e+00]\n",
      " [ 1.01010101e-02  1.01008383e-02  5.02525231e-01  1.00000000e+00\n",
      "   3.50948762e-01]\n",
      " [ 3.03030303e-02  3.02983928e-02  5.07575178e-01  1.00000000e+00\n",
      "  -3.89427205e-01]\n",
      " [ 5.05050505e-02  5.04835822e-02  5.12623579e-01  1.00000000e+00\n",
      "   5.57586385e-01]\n",
      " [ 7.07070707e-02  7.06481689e-02  5.17669407e-01  1.00000000e+00\n",
      "   6.65746022e-01]\n",
      " [ 9.09090909e-02  9.07839235e-02  5.22711633e-01  1.00000000e+00\n",
      "  -2.70481165e-01]\n",
      " [ 1.11111111e-01  1.10882629e-01  5.27749235e-01  1.00000000e+00\n",
      "   9.26507638e-01]\n",
      " [ 1.31313131e-01  1.30936081e-01  5.32781192e-01  1.00000000e+00\n",
      "   1.20736317e+00]\n",
      " [ 1.51515152e-01  1.50936098e-01  5.37806489e-01  1.00000000e+00\n",
      "   7.42084464e-01]\n",
      " [ 1.71717172e-01  1.70874517e-01  5.42824116e-01  1.00000000e+00\n",
      "   6.43630126e-01]\n",
      " [ 1.91919192e-01  1.90743201e-01  5.47833069e-01  1.00000000e+00\n",
      "   1.11797002e+00]\n",
      " [ 2.12121212e-01  2.10534040e-01  5.52832350e-01  1.00000000e+00\n",
      "   1.04442064e+00]\n",
      " [ 2.32323232e-01  2.30238959e-01  5.57820972e-01  1.00000000e+00\n",
      "   7.26699664e-01]\n",
      " [ 2.52525253e-01  2.49849916e-01  5.62797954e-01  1.00000000e+00\n",
      "   1.19435184e+00]\n",
      " [ 2.72727273e-01  2.69358908e-01  5.67762324e-01  1.00000000e+00\n",
      "   1.65505779e+00]\n",
      " [ 2.92929293e-01  2.88757971e-01  5.72713121e-01  1.00000000e+00\n",
      "   1.07405398e+00]\n",
      " [ 3.13131313e-01  3.08039191e-01  5.77649395e-01  1.00000000e+00\n",
      "   2.09645733e+00]\n",
      " [ 3.33333333e-01  3.27194697e-01  5.82570206e-01  1.00000000e+00\n",
      "   6.43909481e-01]\n",
      " [ 3.53535354e-01  3.46216672e-01  5.87474630e-01  1.00000000e+00\n",
      "   1.31550996e+00]\n",
      " [ 3.73737374e-01  3.65097354e-01  5.92361750e-01  1.00000000e+00\n",
      "   3.26401285e-02]\n",
      " [ 3.93939394e-01  3.83829037e-01  5.97230667e-01  1.00000000e+00\n",
      "   5.86807309e-01]\n",
      " [ 4.14141414e-01  4.02404076e-01  6.02080495e-01  1.00000000e+00\n",
      "   1.97211883e+00]\n",
      " [ 4.34343434e-01  4.20814891e-01  6.06910362e-01  1.00000000e+00\n",
      "   1.17093544e+00]\n",
      " [ 4.54545455e-01  4.39053968e-01  6.11719411e-01  1.00000000e+00\n",
      "   1.06419677e+00]\n",
      " [ 4.74747475e-01  4.57113864e-01  6.16506803e-01  1.00000000e+00\n",
      "  -2.96574370e-02]\n",
      " [ 4.94949495e-01  4.74987208e-01  6.21271712e-01  1.00000000e+00\n",
      "   4.57180400e-01]\n",
      " [ 5.15151515e-01  4.92666706e-01  6.26013331e-01  1.00000000e+00\n",
      "   1.78012145e+00]\n",
      " [ 5.35353535e-01  5.10145143e-01  6.30730871e-01  1.00000000e+00\n",
      "  -8.87659471e-01]\n",
      " [ 5.55555556e-01  5.27415386e-01  6.35423559e-01  1.00000000e+00\n",
      "   2.04837199e+00]\n",
      " [ 5.75757576e-01  5.44470386e-01  6.40090641e-01  1.00000000e+00\n",
      "   1.39549710e+00]\n",
      " [ 5.95959596e-01  5.61303184e-01  6.44731382e-01  1.00000000e+00\n",
      "   9.61690757e-01]\n",
      " [ 6.16161616e-01  5.77906910e-01  6.49345066e-01  1.00000000e+00\n",
      "   1.54083084e+00]\n",
      " [ 6.36363636e-01  5.94274788e-01  6.53930994e-01  1.00000000e+00\n",
      "   3.31942477e-01]\n",
      " [ 6.56565657e-01  6.10400137e-01  6.58488489e-01  1.00000000e+00\n",
      "  -8.03089678e-01]\n",
      " [ 6.76767677e-01  6.26276377e-01  6.63016895e-01  1.00000000e+00\n",
      "   1.61398657e+00]\n",
      " [ 6.96969697e-01  6.41897029e-01  6.67515573e-01  1.00000000e+00\n",
      "   1.19044827e+00]\n",
      " [ 7.17171717e-01  6.57255718e-01  6.71983906e-01  1.00000000e+00\n",
      "   8.91997695e-01]\n",
      " [ 7.37373737e-01  6.72346176e-01  6.76421298e-01  1.00000000e+00\n",
      "  -2.38387850e-01]\n",
      " [ 7.57575758e-01  6.87162244e-01  6.80827173e-01  1.00000000e+00\n",
      "   1.07707253e+00]\n",
      " [ 7.77777778e-01  7.01697876e-01  6.85200977e-01  1.00000000e+00\n",
      "   4.75660958e-01]\n",
      " [ 7.97979798e-01  7.15947140e-01  6.89542175e-01  1.00000000e+00\n",
      "   1.69539535e+00]\n",
      " [ 8.18181818e-01  7.29904220e-01  6.93850254e-01  1.00000000e+00\n",
      "  -3.48472954e-01]\n",
      " [ 8.38383838e-01  7.43563420e-01  6.98124725e-01  1.00000000e+00\n",
      "   1.49841701e+00]\n",
      " [ 8.58585859e-01  7.56919167e-01  7.02365115e-01  1.00000000e+00\n",
      "  -6.35623627e-01]\n",
      " [ 8.78787879e-01  7.69966008e-01  7.06570977e-01  1.00000000e+00\n",
      "   1.93329909e+00]\n",
      " [ 8.98989899e-01  7.82698621e-01  7.10741882e-01  1.00000000e+00\n",
      "   1.05629694e+00]\n",
      " [ 9.19191919e-01  7.95111809e-01  7.14877425e-01  1.00000000e+00\n",
      "   1.64707108e+00]\n",
      " [ 9.39393939e-01  8.07200505e-01  7.18977220e-01  1.00000000e+00\n",
      "   7.30913754e-01]\n",
      " [ 9.59595960e-01  8.18959776e-01  7.23040902e-01  1.00000000e+00\n",
      "   1.46225786e+00]\n",
      " [ 9.79797980e-01  8.30384824e-01  7.27068129e-01  1.00000000e+00\n",
      "   9.11736270e-01]\n",
      " [ 1.00000000e+00  8.41470985e-01  7.31058579e-01  1.00000000e+00\n",
      "   1.47931970e+00]]\n",
      "\n",
      "Matriz logistica filtrada: \n",
      " [[0.37398667 0.37872829 0.3834932  0.38828059 0.39308964]\n",
      " [0.3979195  0.40276933 0.40763825 0.41252537 0.41742979]\n",
      " [0.42235061 0.42728688 0.43223768 0.43720205 0.44217903]\n",
      " [0.44716765 0.45216693 0.45717588 0.46219351 0.46721881]\n",
      " [0.47225076 0.47728837 0.48233059 0.48737642 0.49242482]\n",
      " [0.49747477 0.50252523 0.50757518 0.51262358 0.51766941]\n",
      " [0.52271163 0.52774924 0.53278119 0.53780649 0.54282412]\n",
      " [0.54783307 0.55283235 0.55782097 0.56279795 0.56776232]\n",
      " [0.57271312 0.57764939 0.58257021 0.58747463 0.59236175]\n",
      " [0.59723067 0.6020805  0.60691036 0.61171941 0.6165068 ]]\n"
     ]
    }
   ],
   "source": [
    "# Escribe aqui tu código\n",
    "import numpy as np\n",
    "\n",
    "x = np.linspace(-1,1,100)\n",
    "\n",
    "senx = np.sin(x)\n",
    "\n",
    "logisticx = 1 / (1 + np.exp(-x))\n",
    "\n",
    "cond = np.where(senx > 0, 1, -1)\n",
    "\n",
    "gaussiana = np.random.normal(1,np.sqrt(0.5), 100)\n",
    "\n",
    "matrix = np.column_stack((x, senx, logisticx, cond, gaussiana))\n",
    "\n",
    "print(\"\\nMatriz 100x5: \\n\", matrix)\n",
    "\n",
    "logisticf = logisticx[np.abs(senx) < 0.5]\n",
    "\n",
    "logisticf_a = logisticf[:len(logisticf)- len(logisticf) % 5]\n",
    "\n",
    "matrixlogisticfil = logisticf_a.reshape(-1, 5)\n",
    "\n",
    "print(\"\\nMatriz logistica filtrada: \\n\", matrixlogisticfil)"
   ]
  },
  {
   "cell_type": "markdown",
   "metadata": {},
   "source": [
    "Además de estas funciones, numpy cuenta con funciones del algebra lineal altamente optimizadas (aunque no paralelizadas), las cuales son (entre otras):\n",
    "\n",
    "* `np.linalg.inv(a)`: Inversa de a\n",
    "* `np.linalg.pinv(a)`: Pseudoinversa de Ross-Penrose de a (muy útil para nosotros)\n",
    "* `np.linalg.det(a)`: determinante de a\n",
    "* `np.linalg.eig(a)`: eigenvalores y eigenvectores de a\n",
    "* `np.linalg.svd(a)`: Valores singulares de a"
   ]
  },
  {
   "cell_type": "markdown",
   "metadata": {},
   "source": [
    "## Haciendo gráficas sencillas con Matplotlib"
   ]
  },
  {
   "cell_type": "markdown",
   "metadata": {},
   "source": [
    "La mejor manera de mostrar como funcionan las facilidades que ofrece matplotlib, es mostrando directamente su uso más sencillo,\n",
    "así que veamos un ejemplo muy simple. Es importante recordar que en la primer celda de esta libreta se definió la manera de realizar las gráficas (dentro del documento y no como figuras aparte), así como se cargo matplotlib en el espacio de nombres plt."
   ]
  },
  {
   "cell_type": "code",
   "execution_count": null,
   "metadata": {
    "collapsed": false
   },
   "outputs": [],
   "source": [
    "# Vamos a hacerlo pasito a pasito\n",
    "\n",
    "# Primero obtenemos un vector x\n",
    "x = np.linspace(-np.pi, np.pi, 1000)\n",
    "\n",
    "# Luego obtenemos un vector y bastante trivial\n",
    "y = np.sin(x)\n",
    "\n",
    "# Y ahora hacemos una gráfica bastante básica de x y y\n",
    "plt.plot(x, y)\n",
    "plt.xlabel(\"el eje de las x's\")\n",
    "plt.ylabel(\"el eje de las y's\")\n",
    "plt.title(\"Este es un plot bastante trivial y sin mucho chiste\")\n",
    "\n",
    "# Bueno como la gráfica no esta muy bien a lo mejor se ve mejor si modificamos los limites de los ejes\n",
    "plt.axis([-3.1416, 3.1416, -1.1, 1.1])"
   ]
  },
  {
   "cell_type": "markdown",
   "metadata": {},
   "source": [
    "Aunque a veces queremos hacer unas gráficas más bien indicativas por lo que un estilo más informal podría ser útil:\n"
   ]
  },
  {
   "cell_type": "code",
   "execution_count": null,
   "metadata": {
    "collapsed": false
   },
   "outputs": [],
   "source": [
    "with plt.xkcd():\n",
    "    plt.plot(x, y)\n",
    "    plt.xlabel(\"el eje de las x's\")\n",
    "    plt.ylabel(\"el eje de las y's\")\n",
    "    plt.title(\"Este es un plot bastante trivial y sin mucho chiste\")\n",
    "    plt.axis([-3.1416, 3.1416, -1.1, 1.1])"
   ]
  },
  {
   "cell_type": "markdown",
   "metadata": {},
   "source": [
    "Hay que tener mucho cuidado, ya que si no se utiliza plt.xkcd() dentro de un with, entonces va a modificar todas las graficas que se realicen en la libreta (a veces es deseable, pero es una mejor práctica de programación hacerlo así)."
   ]
  },
  {
   "cell_type": "code",
   "execution_count": null,
   "metadata": {
    "collapsed": false
   },
   "outputs": [],
   "source": [
    "with plt.style.context(('ggplot')):\n",
    "    plt.plot(x, y)\n",
    "    plt.xlabel(\"el eje de las x's\")\n",
    "    plt.ylabel(\"el eje de las y's\")\n",
    "    plt.title(\"Este es un plot bastante trivial y sin mucho chiste\")\n",
    "    plt.axis([-3.1416, 3.1416, -1.1, 1.1])"
   ]
  },
  {
   "cell_type": "markdown",
   "metadata": {},
   "source": [
    "Ahora hagamos una gráfica con varios valores diferentes"
   ]
  },
  {
   "cell_type": "code",
   "execution_count": null,
   "metadata": {
    "collapsed": false
   },
   "outputs": [],
   "source": [
    "plt.plot(x, np.sin(x), label='seno')\n",
    "\n",
    "plt.plot(x, 1/(1 + np.exp(-x)), label=u\"logística\")\n",
    "\n",
    "plt.plot(x, (0.2 * x * x) - 0.5, label=r'$0.2 x^2 - 0.5$')\n",
    "\n",
    "plt.axis([-3.1416, 3.1416, -1.1, 1.4])\n",
    "\n",
    "plt.title(\"Tres funciones piteras juntas\")\n",
    "plt.xlabel(r\"$\\theta$ (rad)\")\n",
    "plt.ylabel(\"magnitud\")\n",
    "\n",
    "plt.legend(loc=0)"
   ]
  },
  {
   "cell_type": "markdown",
   "metadata": {},
   "source": [
    "Hay muchos tipos de funciones, lo mejor para saber como ustilizar matplotlib es ver la galeria de ejemplo que se encuentran en la ayuda,\n",
    "y pueden consultarse en http://matplotlib.org/gallery.html (al darle click a una imagen se puede ver el código que la genera).\n",
    "\n",
    "Por ejemplo si queremos una gráfica tipo pay:"
   ]
  },
  {
   "cell_type": "code",
   "execution_count": null,
   "metadata": {
    "collapsed": false
   },
   "outputs": [],
   "source": [
    "labels = 'Tortas', 'Taquitos', 'Burros', 'Ensaladas'\n",
    "porcentajes = [15, 30, 45, 10]\n",
    "colores = ['yellowgreen', 'gold', 'lightskyblue', 'lightcoral']\n",
    "separa = (0, 0.1, 0, 0) # solo separa la segunda rebanada (i.e. 'Taquitos')\n",
    "\n",
    "plt.pie(\n",
    "    porcentajes, explode=separa, labels=labels, colors=colores, \n",
    "    autopct='%1.1f%%', shadow=True, startangle=90\n",
    ")\n",
    "plt.axis('equal') #Para que el pay se vea como un círculo\n",
    "plt.xlabel(u'Lo que como cuando me quedo en la UNISON a mediodía')\n"
   ]
  },
  {
   "cell_type": "markdown",
   "metadata": {},
   "source": [
    "O si queremos una gráfica tipo contorno con todo y datos"
   ]
  },
  {
   "cell_type": "code",
   "execution_count": null,
   "metadata": {
    "collapsed": false
   },
   "outputs": [],
   "source": [
    "import matplotlib.cm as cm\n",
    "\n",
    "delta = 0.025\n",
    "x = np.arange(-3.0, 3.0, delta)\n",
    "y = np.arange(-2.0, 2.0, delta)\n",
    "X, Y = np.meshgrid(x, y)\n",
    "Z1 = np.exp(-X**2 - Y**2)\n",
    "Z2 = np.exp(-(X - 1)**2 - (Y - 1)**2)\n",
    "Z = (Z1 - Z2) * 2\n",
    "\n",
    "CS = plt.contour(X, Y, Z)\n",
    "plt.clabel(CS, fontsize=10)\n",
    "plt.title('Grafica simple de contorno')\n",
    "plt.show()"
   ]
  },
  {
   "cell_type": "markdown",
   "metadata": {},
   "source": [
    "Por último, un detalle muy importante y que puede ser de mucha utilidad: La generación de subplots. Una figura puede contener varias subgraficas, para esto hay que especificar en cuantas gráficas vamos a dividir la figura en forma de renglones y columnas, y luego seleccionar la subgráfica en la que vamos a graficar. Por ejemplo\n",
    "\n",
    "    plt.subplot(2,2,1)\n",
    "    \n",
    "significa que la figura la vamos a dividir en 2 renglones y dos columnas (cuatro subgráficas) y vamos a escribir sobre la subgráfica 1. Lo mejor es ilustrarlo con un ejemplo muy simple."
   ]
  },
  {
   "cell_type": "code",
   "execution_count": null,
   "metadata": {
    "collapsed": false
   },
   "outputs": [],
   "source": [
    "x = np.linspace(0, 5, 1000)\n",
    "y1 = np.exp(-0.2 * x) * np.cos(2 * np.pi * x)\n",
    "y2 = np.cos(2 * np.pi * x)\n",
    "y3 = np.exp(0.2 * x) * np.cos(2 * np.pi * x)\n",
    "y4 = np.exp(-0.1 * x)\n",
    "\n",
    "plt.subplot(2, 2, 1)\n",
    "plt.plot(x, y1)\n",
    "plt.title('Estable subamortiguado')\n",
    "\n",
    "plt.subplot(2, 2, 2)\n",
    "plt.plot(x, y2)\n",
    "plt.title('Criticamente estable')\n",
    "\n",
    "plt.subplot(2, 2, 3)\n",
    "plt.plot(x, y3)\n",
    "plt.title('inestable')\n",
    "\n",
    "plt.subplot(2, 2, 4)\n",
    "plt.plot(x, y4)\n",
    "plt.title('Estable sobreamortiguado')\n",
    "\n"
   ]
  },
  {
   "cell_type": "markdown",
   "metadata": {},
   "source": [
    "### Ultimo trabajo"
   ]
  },
  {
   "cell_type": "markdown",
   "metadata": {},
   "source": [
    "Realiza lo siguiente en varias celdas abajo de esta:\n",
    "\n",
    "* Genera un vector de 1000 datos aleatorios distribuidos de acuerdo a una gaussiana con media 3 y varianza .5, y otro vector con 1000 datos aleatorios distribuidos con una media 0 y una varianza unitaria. Al concatenar los dos vectores, estás generando una serie de datos proveniente de una distribución conocida como suma de gaussianas. Para ver como es esta distribución de datos, grafíca un histograma (con un número suficiente de bins).\n",
    "\n",
    "* Genera un vector de datos de entrada `x = np.linspace(0, 1, 1000)` y grafica $\\sin(2\\pi x)$, $\\sin(4\\pi x)$, $\\sin(8\\pi x)$. ¿Que conlusión puedes sacar al respecto? Realiza la gráfica con titulo, ejes, etiquetas y todo lo necesario para que sea publicable.\n",
    "\n",
    "* Grafíca la función $e^{-t}\\cos(2\\pi t)$ para $t \\in [0, 5]$. Asegurate que la gráfica sea una linea punteada de color rojo, que la gráfica tenga título, etiqueta en el eje de $t$ (tiempo), etiqueta en el eje de $y$ (voltaje en $\\mu$V), y una nota donde se escriba la ecuación simulada.\n",
    "\n",
    "* Copia el ejemplo de la galería de matplotlib http://matplotlib.org/examples/pylab_examples/shading_example.html y modificalo para que se grafique dentro de la libreta. Una vez funcionando, comenta *cada linea de código* dejando bien claro **en español y con tus palabras** que es lo que hace cada una de las lineas."
   ]
  },
  {
   "cell_type": "code",
   "execution_count": null,
   "metadata": {
    "collapsed": false
   },
   "outputs": [],
   "source": [
    "#Agrega aqui el primer problema y resualve cada problema en una celda independiente."
   ]
  }
 ],
 "metadata": {
  "kernelspec": {
   "display_name": "Python 3",
   "language": "python",
   "name": "python3"
  },
  "language_info": {
   "codemirror_mode": {
    "name": "ipython",
    "version": 3
   },
   "file_extension": ".py",
   "mimetype": "text/x-python",
   "name": "python",
   "nbconvert_exporter": "python",
   "pygments_lexer": "ipython3",
   "version": "3.13.0"
  }
 },
 "nbformat": 4,
 "nbformat_minor": 2
}
